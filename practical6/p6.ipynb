{
 "cells": [
  {
   "cell_type": "code",
   "execution_count": 25,
   "metadata": {},
   "outputs": [],
   "source": [
    "# Import libraries\n",
    "import requests\n",
    "from lxml import html"
   ]
  },
  {
   "cell_type": "code",
   "execution_count": 26,
   "metadata": {},
   "outputs": [],
   "source": [
    "# Fetch the webpage\n",
    "response = requests.get(\"https://ldce.ac.in/\")"
   ]
  },
  {
   "cell_type": "code",
   "execution_count": 63,
   "metadata": {},
   "outputs": [],
   "source": [
    "tree = html.fromstring(response.content)"
   ]
  },
  {
   "cell_type": "code",
   "execution_count": 125,
   "metadata": {},
   "outputs": [
    {
     "name": "stdout",
     "output_type": "stream",
     "text": [
      "L. D. College of Engineering\n"
     ]
    }
   ],
   "source": [
    "# To fetch the title of the webpage\n",
    "title = tree.xpath(\"//title\")\n",
    "print(title[0].text)"
   ]
  },
  {
   "cell_type": "code",
   "execution_count": 82,
   "metadata": {},
   "outputs": [
    {
     "name": "stdout",
     "output_type": "stream",
     "text": [
      "Welcome To LDCE\n"
     ]
    }
   ],
   "source": [
    "# To fetch the heading of webpage\n",
    "welcome = tree.xpath(\"//*[@class='headline']/h1\")\n",
    "print(welcome[0].text)"
   ]
  },
  {
   "cell_type": "code",
   "execution_count": 159,
   "metadata": {},
   "outputs": [
    {
     "name": "stdout",
     "output_type": "stream",
     "text": [
      "L. D. College of Engineering endearingly known as L.D.C.E is Ahmedabad’s premier engineering college situated at the city’s heart and surrounded by elite organization like PRL, ATIRA, ISRO, IIM and CEPT. Starting in 1948 to impart quality higher education in various fields of engineering, it has seen unprecedented growth.\n"
     ]
    }
   ],
   "source": [
    "# To fetch the description of webpage\n",
    "description1 = tree.xpath(\"//*[@class='tag-box tag-box-v2 funny-boxes-left-green']/p[1]\")[0].text_content()\n",
    "print(description1)"
   ]
  },
  {
   "cell_type": "code",
   "execution_count": 160,
   "metadata": {},
   "outputs": [
    {
     "name": "stdout",
     "output_type": "stream",
     "text": [
      "It is affiliated with Gujarat Technological University & administrated by Department of Technical Education, Government of Gujarat.\n"
     ]
    }
   ],
   "source": [
    "description2 = tree.xpath(\"//*[@class='tag-box tag-box-v2 funny-boxes-left-green']/p[2]\")[0].text_content()\n",
    "print(description2)"
   ]
  }
 ],
 "metadata": {
  "kernelspec": {
   "display_name": "Python 3",
   "language": "python",
   "name": "python3"
  },
  "language_info": {
   "codemirror_mode": {
    "name": "ipython",
    "version": 3
   },
   "file_extension": ".py",
   "mimetype": "text/x-python",
   "name": "python",
   "nbconvert_exporter": "python",
   "pygments_lexer": "ipython3",
   "version": "3.11.2"
  }
 },
 "nbformat": 4,
 "nbformat_minor": 2
}
