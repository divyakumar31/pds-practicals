{
 "cells": [
  {
   "cell_type": "markdown",
   "metadata": {},
   "source": [
    "Practical 5: Implement a method using regular expression to validate email id and mobile number from the given dataset. If email id and mobile number are not in the dataset then add this attributes and test it."
   ]
  },
  {
   "cell_type": "code",
   "execution_count": 1,
   "metadata": {},
   "outputs": [],
   "source": [
    "# Import libraries\n",
    "import pandas as pd\n",
    "import re\n",
    "import random"
   ]
  },
  {
   "cell_type": "code",
   "execution_count": 2,
   "metadata": {},
   "outputs": [],
   "source": [
    "# Load data - encoding=\"ISO-8859-1\"\n",
    "df = pd.read_csv(\"../mca_gujarat_21042018.csv\")"
   ]
  },
  {
   "cell_type": "code",
   "execution_count": 3,
   "metadata": {},
   "outputs": [],
   "source": [
    "# Fill the missing values\n",
    "df.fillna(df.mode().iloc[0], inplace=True)"
   ]
  },
  {
   "cell_type": "code",
   "execution_count": 4,
   "metadata": {},
   "outputs": [],
   "source": [
    "# To validate email address\n",
    "def is_valid_email(email):\n",
    "    r = re.search(r\"([A-Za-z0-9]+[.-_])*[A-Za-z0-9]+@[A-Za-z0-9-]+(\\.[A-Z|a-z]{2,})+\",email)\n",
    "    if r:\n",
    "        return \"Valid\"\n",
    "    else:\n",
    "        return \"Invalid\""
   ]
  },
  {
   "cell_type": "code",
   "execution_count": 5,
   "metadata": {},
   "outputs": [],
   "source": [
    "# To validate Mobile number \n",
    "def is_valid_number(number):\n",
    "    r = re.search(r\"\\d{10}\", str(number))\n",
    "    if r:\n",
    "        return \"Valid\"\n",
    "    else:\n",
    "        return \"Invalid\""
   ]
  },
  {
   "cell_type": "code",
   "execution_count": 6,
   "metadata": {},
   "outputs": [],
   "source": [
    "# To generate random number\n",
    "def random_number():\n",
    "    number = random.randint(1000000000, 9999999999)\n",
    "    return number"
   ]
  },
  {
   "cell_type": "code",
   "execution_count": 7,
   "metadata": {},
   "outputs": [
    {
     "data": {
      "text/plain": [
       "Index(['CORPORATE_IDENTIFICATION_NUMBER', 'COMPANY_NAME', 'COMPANY_STATUS',\n",
       "       'COMPANY_CLASS', 'COMPANY_CATEGORY', 'COMPANY_SUB_CATEGORY',\n",
       "       'DATE_OF_REGISTRATION', 'REGISTERED_STATE', 'AUTHORIZED_CAP',\n",
       "       'PAIDUP_CAPITAL', 'INDUSTRIAL_CLASS',\n",
       "       'PRINCIPAL_BUSINESS_ACTIVITY_AS_PER_CIN', 'REGISTRAR_OF_COMPANIES',\n",
       "       'EMAIL_ADDR', 'LATEST_YEAR_ANNUAL_RETURN',\n",
       "       'LATEST_YEAR_FINANCIAL_STATEMENT', 'MOBILE_NUMBER'],\n",
       "      dtype='object')"
      ]
     },
     "execution_count": 7,
     "metadata": {},
     "output_type": "execute_result"
    }
   ],
   "source": [
    "# ADD Attribute Mobile number in the dataset\n",
    "if \"MOBILE_NUMBER\" not in df.columns:\n",
    "    num = []\n",
    "    for i in range(len(df)):\n",
    "        num.append(random_number())\n",
    "    df['MOBILE_NUMBER'] = num\n",
    "\n",
    "df.keys()"
   ]
  },
  {
   "cell_type": "code",
   "execution_count": 8,
   "metadata": {},
   "outputs": [],
   "source": [
    "# Iter the dataset and validate each email, mobile number and add it in list\n",
    "email_validate = []\n",
    "mobile_validate = []\n",
    "for index, row in df.iterrows():\n",
    "    email_validate.append(is_valid_email(row['EMAIL_ADDR']))\n",
    "    mobile_validate.append(is_valid_number(row['MOBILE_NUMBER']))"
   ]
  },
  {
   "cell_type": "code",
   "execution_count": 9,
   "metadata": {},
   "outputs": [
    {
     "data": {
      "text/plain": [
       "VALIDATE_EMAIL\n",
       "Valid      95811\n",
       "Invalid       15\n",
       "Name: count, dtype: int64"
      ]
     },
     "execution_count": 9,
     "metadata": {},
     "output_type": "execute_result"
    }
   ],
   "source": [
    "# Add VALIDATE_EMAIL column in existing dataset\n",
    "df['VALIDATE_EMAIL'] = email_validate\n",
    "df['VALIDATE_EMAIL'].value_counts()"
   ]
  },
  {
   "cell_type": "code",
   "execution_count": 10,
   "metadata": {},
   "outputs": [
    {
     "data": {
      "text/plain": [
       "VALIDATE_MOBILE\n",
       "Valid    95826\n",
       "Name: count, dtype: int64"
      ]
     },
     "execution_count": 10,
     "metadata": {},
     "output_type": "execute_result"
    }
   ],
   "source": [
    "# Add VALIDATE_MOBILE column in existing dataset\n",
    "df['VALIDATE_MOBILE'] = mobile_validate\n",
    "df['VALIDATE_MOBILE'].value_counts()"
   ]
  },
  {
   "cell_type": "code",
   "execution_count": 11,
   "metadata": {},
   "outputs": [
    {
     "data": {
      "text/html": [
       "<div>\n",
       "<style scoped>\n",
       "    .dataframe tbody tr th:only-of-type {\n",
       "        vertical-align: middle;\n",
       "    }\n",
       "\n",
       "    .dataframe tbody tr th {\n",
       "        vertical-align: top;\n",
       "    }\n",
       "\n",
       "    .dataframe thead th {\n",
       "        text-align: right;\n",
       "    }\n",
       "</style>\n",
       "<table border=\"1\" class=\"dataframe\">\n",
       "  <thead>\n",
       "    <tr style=\"text-align: right;\">\n",
       "      <th></th>\n",
       "      <th>CORPORATE_IDENTIFICATION_NUMBER</th>\n",
       "      <th>COMPANY_NAME</th>\n",
       "      <th>COMPANY_STATUS</th>\n",
       "      <th>COMPANY_CLASS</th>\n",
       "      <th>COMPANY_CATEGORY</th>\n",
       "      <th>COMPANY_SUB_CATEGORY</th>\n",
       "      <th>DATE_OF_REGISTRATION</th>\n",
       "      <th>REGISTERED_STATE</th>\n",
       "      <th>AUTHORIZED_CAP</th>\n",
       "      <th>PAIDUP_CAPITAL</th>\n",
       "      <th>INDUSTRIAL_CLASS</th>\n",
       "      <th>PRINCIPAL_BUSINESS_ACTIVITY_AS_PER_CIN</th>\n",
       "      <th>REGISTRAR_OF_COMPANIES</th>\n",
       "      <th>EMAIL_ADDR</th>\n",
       "      <th>LATEST_YEAR_ANNUAL_RETURN</th>\n",
       "      <th>LATEST_YEAR_FINANCIAL_STATEMENT</th>\n",
       "      <th>MOBILE_NUMBER</th>\n",
       "      <th>VALIDATE_EMAIL</th>\n",
       "      <th>VALIDATE_MOBILE</th>\n",
       "    </tr>\n",
       "  </thead>\n",
       "  <tbody>\n",
       "    <tr>\n",
       "      <th>0</th>\n",
       "      <td>U01223GJ2001PTC039771</td>\n",
       "      <td>SHREEJI HONEY (INDIA) PRIVATE LIMITED</td>\n",
       "      <td>Active</td>\n",
       "      <td>Private</td>\n",
       "      <td>Company limited by Shares</td>\n",
       "      <td>Non-govt company</td>\n",
       "      <td>12-07-2001</td>\n",
       "      <td>Gujarat</td>\n",
       "      <td>1500000.0</td>\n",
       "      <td>1500000.0</td>\n",
       "      <td>`01223</td>\n",
       "      <td>Agriculture and Allied Activities</td>\n",
       "      <td>RoC-Ahmedabad</td>\n",
       "      <td>d_joshi_associates@yahoo.com</td>\n",
       "      <td>31-03-2017</td>\n",
       "      <td>31-03-2017</td>\n",
       "      <td>8066946346</td>\n",
       "      <td>Valid</td>\n",
       "      <td>Valid</td>\n",
       "    </tr>\n",
       "    <tr>\n",
       "      <th>1</th>\n",
       "      <td>U01224GJ2005PTC047084</td>\n",
       "      <td>NICE NATURAL SILK INDUSTRIES PRIVATE LIMITED</td>\n",
       "      <td>Strike Off</td>\n",
       "      <td>Private</td>\n",
       "      <td>Company limited by Shares</td>\n",
       "      <td>Non-govt company</td>\n",
       "      <td>17-11-2005</td>\n",
       "      <td>Gujarat</td>\n",
       "      <td>10000000.0</td>\n",
       "      <td>100000.0</td>\n",
       "      <td>`01224</td>\n",
       "      <td>Agriculture and Allied Activities</td>\n",
       "      <td>RoC-Ahmedabad</td>\n",
       "      <td>k_dalal@rediffmail.com</td>\n",
       "      <td>31-03-2017</td>\n",
       "      <td>31-03-2017</td>\n",
       "      <td>5715892849</td>\n",
       "      <td>Valid</td>\n",
       "      <td>Valid</td>\n",
       "    </tr>\n",
       "    <tr>\n",
       "      <th>2</th>\n",
       "      <td>U01224GJ2011PTC067121</td>\n",
       "      <td>DAYALJI SILK PRIVATE LIMITED</td>\n",
       "      <td>Active</td>\n",
       "      <td>Private</td>\n",
       "      <td>Company limited by Shares</td>\n",
       "      <td>Non-govt company</td>\n",
       "      <td>14-09-2011</td>\n",
       "      <td>Gujarat</td>\n",
       "      <td>100000.0</td>\n",
       "      <td>100000.0</td>\n",
       "      <td>`01224</td>\n",
       "      <td>Agriculture and Allied Activities</td>\n",
       "      <td>RoC-Ahmedabad</td>\n",
       "      <td>mutualarena@gmail.com</td>\n",
       "      <td>31-03-2017</td>\n",
       "      <td>31-03-2017</td>\n",
       "      <td>6792847523</td>\n",
       "      <td>Valid</td>\n",
       "      <td>Valid</td>\n",
       "    </tr>\n",
       "    <tr>\n",
       "      <th>3</th>\n",
       "      <td>U01225GJ2010PTC061439</td>\n",
       "      <td>K. R. RABBIT FARMING PRIVATE LIMITED</td>\n",
       "      <td>Strike Off</td>\n",
       "      <td>Private</td>\n",
       "      <td>Company limited by Shares</td>\n",
       "      <td>Non-govt company</td>\n",
       "      <td>05-07-2010</td>\n",
       "      <td>Gujarat</td>\n",
       "      <td>100000.0</td>\n",
       "      <td>100000.0</td>\n",
       "      <td>`01225</td>\n",
       "      <td>Agriculture and Allied Activities</td>\n",
       "      <td>RoC-Ahmedabad</td>\n",
       "      <td>piyush.luktuke@yahoo.com</td>\n",
       "      <td>31-03-2017</td>\n",
       "      <td>31-03-2017</td>\n",
       "      <td>5228859734</td>\n",
       "      <td>Valid</td>\n",
       "      <td>Valid</td>\n",
       "    </tr>\n",
       "    <tr>\n",
       "      <th>4</th>\n",
       "      <td>U01225GJ2013PLC073774</td>\n",
       "      <td>ABELLON BAMBOOWORKS LIMITED</td>\n",
       "      <td>Active</td>\n",
       "      <td>Public</td>\n",
       "      <td>Company limited by Shares</td>\n",
       "      <td>Non-govt company</td>\n",
       "      <td>28-02-2013</td>\n",
       "      <td>Gujarat</td>\n",
       "      <td>40000000.0</td>\n",
       "      <td>40000000.0</td>\n",
       "      <td>`01225</td>\n",
       "      <td>Agriculture and Allied Activities</td>\n",
       "      <td>RoC-Ahmedabad</td>\n",
       "      <td>secretarial.corp@abelloncleanenergy.com</td>\n",
       "      <td>31-03-2016</td>\n",
       "      <td>31-03-2016</td>\n",
       "      <td>6810007609</td>\n",
       "      <td>Valid</td>\n",
       "      <td>Valid</td>\n",
       "    </tr>\n",
       "  </tbody>\n",
       "</table>\n",
       "</div>"
      ],
      "text/plain": [
       "  CORPORATE_IDENTIFICATION_NUMBER  \\\n",
       "0           U01223GJ2001PTC039771   \n",
       "1           U01224GJ2005PTC047084   \n",
       "2           U01224GJ2011PTC067121   \n",
       "3           U01225GJ2010PTC061439   \n",
       "4           U01225GJ2013PLC073774   \n",
       "\n",
       "                                   COMPANY_NAME COMPANY_STATUS COMPANY_CLASS  \\\n",
       "0         SHREEJI HONEY (INDIA) PRIVATE LIMITED         Active       Private   \n",
       "1  NICE NATURAL SILK INDUSTRIES PRIVATE LIMITED     Strike Off       Private   \n",
       "2                  DAYALJI SILK PRIVATE LIMITED         Active       Private   \n",
       "3          K. R. RABBIT FARMING PRIVATE LIMITED     Strike Off       Private   \n",
       "4                   ABELLON BAMBOOWORKS LIMITED         Active        Public   \n",
       "\n",
       "            COMPANY_CATEGORY COMPANY_SUB_CATEGORY DATE_OF_REGISTRATION  \\\n",
       "0  Company limited by Shares     Non-govt company           12-07-2001   \n",
       "1  Company limited by Shares     Non-govt company           17-11-2005   \n",
       "2  Company limited by Shares     Non-govt company           14-09-2011   \n",
       "3  Company limited by Shares     Non-govt company           05-07-2010   \n",
       "4  Company limited by Shares     Non-govt company           28-02-2013   \n",
       "\n",
       "  REGISTERED_STATE  AUTHORIZED_CAP  PAIDUP_CAPITAL INDUSTRIAL_CLASS  \\\n",
       "0          Gujarat       1500000.0       1500000.0           `01223   \n",
       "1          Gujarat      10000000.0        100000.0           `01224   \n",
       "2          Gujarat        100000.0        100000.0           `01224   \n",
       "3          Gujarat        100000.0        100000.0           `01225   \n",
       "4          Gujarat      40000000.0      40000000.0           `01225   \n",
       "\n",
       "  PRINCIPAL_BUSINESS_ACTIVITY_AS_PER_CIN REGISTRAR_OF_COMPANIES  \\\n",
       "0      Agriculture and Allied Activities          RoC-Ahmedabad   \n",
       "1      Agriculture and Allied Activities          RoC-Ahmedabad   \n",
       "2      Agriculture and Allied Activities          RoC-Ahmedabad   \n",
       "3      Agriculture and Allied Activities          RoC-Ahmedabad   \n",
       "4      Agriculture and Allied Activities          RoC-Ahmedabad   \n",
       "\n",
       "                                EMAIL_ADDR LATEST_YEAR_ANNUAL_RETURN  \\\n",
       "0             d_joshi_associates@yahoo.com                31-03-2017   \n",
       "1                   k_dalal@rediffmail.com                31-03-2017   \n",
       "2                    mutualarena@gmail.com                31-03-2017   \n",
       "3                 piyush.luktuke@yahoo.com                31-03-2017   \n",
       "4  secretarial.corp@abelloncleanenergy.com                31-03-2016   \n",
       "\n",
       "  LATEST_YEAR_FINANCIAL_STATEMENT  MOBILE_NUMBER VALIDATE_EMAIL  \\\n",
       "0                      31-03-2017     8066946346          Valid   \n",
       "1                      31-03-2017     5715892849          Valid   \n",
       "2                      31-03-2017     6792847523          Valid   \n",
       "3                      31-03-2017     5228859734          Valid   \n",
       "4                      31-03-2016     6810007609          Valid   \n",
       "\n",
       "  VALIDATE_MOBILE  \n",
       "0           Valid  \n",
       "1           Valid  \n",
       "2           Valid  \n",
       "3           Valid  \n",
       "4           Valid  "
      ]
     },
     "execution_count": 11,
     "metadata": {},
     "output_type": "execute_result"
    }
   ],
   "source": [
    "df.head()"
   ]
  }
 ],
 "metadata": {
  "kernelspec": {
   "display_name": "Python 3",
   "language": "python",
   "name": "python3"
  },
  "language_info": {
   "codemirror_mode": {
    "name": "ipython",
    "version": 3
   },
   "file_extension": ".py",
   "mimetype": "text/x-python",
   "name": "python",
   "nbconvert_exporter": "python",
   "pygments_lexer": "ipython3",
   "version": "3.11.2"
  }
 },
 "nbformat": 4,
 "nbformat_minor": 2
}
