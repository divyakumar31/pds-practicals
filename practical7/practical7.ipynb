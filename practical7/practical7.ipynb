{
 "cells": [
  {
   "cell_type": "markdown",
   "metadata": {},
   "source": [
    "Practical 7: Implement Bag of Word and TF-IDF model for the given documents."
   ]
  },
  {
   "cell_type": "code",
   "execution_count": 1,
   "metadata": {},
   "outputs": [],
   "source": [
    "# Import libraries\n",
    "from sklearn.feature_extraction.text import CountVectorizer, TfidfVectorizer"
   ]
  },
  {
   "cell_type": "code",
   "execution_count": 2,
   "metadata": {},
   "outputs": [],
   "source": [
    "# Let's assume we have the following documents\n",
    "documents = [\n",
    "    'This is PDS',\n",
    "    'PDS-python for data science',\n",
    "    'This code is in python',\n",
    "    'Have you learned python?'\n",
    "]"
   ]
  },
  {
   "cell_type": "code",
   "execution_count": 3,
   "metadata": {},
   "outputs": [
    {
     "name": "stdout",
     "output_type": "stream",
     "text": [
      "Bag of Words Model:\n",
      "['code' 'data' 'for' 'have' 'in' 'is' 'learned' 'pds' 'python' 'science'\n",
      " 'this' 'you']\n",
      "[[0 0 0 0 0 1 0 1 0 0 1 0]\n",
      " [0 1 1 0 0 0 0 1 1 1 0 0]\n",
      " [1 0 0 0 1 1 0 0 1 0 1 0]\n",
      " [0 0 0 1 0 0 1 0 1 0 0 1]]\n"
     ]
    }
   ],
   "source": [
    "# Bag of Words Model\n",
    "vectorizer = CountVectorizer()\n",
    "X = vectorizer.fit_transform(documents)\n",
    "print(\"Bag of Words Model:\")\n",
    "print(vectorizer.get_feature_names_out())\n",
    "print(X.toarray())"
   ]
  },
  {
   "cell_type": "code",
   "execution_count": 4,
   "metadata": {},
   "outputs": [
    {
     "name": "stdout",
     "output_type": "stream",
     "text": [
      "\n",
      "TF-IDF Model:\n",
      "['code' 'data' 'for' 'have' 'in' 'is' 'learned' 'pds' 'python' 'science'\n",
      " 'this' 'you']\n",
      "[[0.         0.         0.         0.         0.         0.57735027\n",
      "  0.         0.57735027 0.         0.         0.57735027 0.        ]\n",
      " [0.         0.49819711 0.49819711 0.         0.         0.\n",
      "  0.         0.39278432 0.31799276 0.49819711 0.         0.        ]\n",
      " [0.52338122 0.         0.         0.         0.52338122 0.41263976\n",
      "  0.         0.         0.33406745 0.         0.41263976 0.        ]\n",
      " [0.         0.         0.         0.5417361  0.         0.\n",
      "  0.5417361  0.         0.34578314 0.         0.         0.5417361 ]]\n"
     ]
    }
   ],
   "source": [
    "# TF-IDF Model\n",
    "vectorizer = TfidfVectorizer()\n",
    "X = vectorizer.fit_transform(documents)\n",
    "print(\"\\nTF-IDF Model:\")\n",
    "print(vectorizer.get_feature_names_out())\n",
    "print(X.toarray())"
   ]
  }
 ],
 "metadata": {
  "kernelspec": {
   "display_name": "Python 3",
   "language": "python",
   "name": "python3"
  },
  "language_info": {
   "codemirror_mode": {
    "name": "ipython",
    "version": 3
   },
   "file_extension": ".py",
   "mimetype": "text/x-python",
   "name": "python",
   "nbconvert_exporter": "python",
   "pygments_lexer": "ipython3",
   "version": "3.11.2"
  }
 },
 "nbformat": 4,
 "nbformat_minor": 2
}
