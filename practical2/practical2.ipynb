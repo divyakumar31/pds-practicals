{
 "cells": [
  {
   "cell_type": "markdown",
   "metadata": {},
   "source": [
    "Practical 2: Work on dataset given by sir"
   ]
  },
  {
   "cell_type": "code",
   "execution_count": 12,
   "metadata": {},
   "outputs": [],
   "source": [
    "# Import libraries\n",
    "import pandas as pd"
   ]
  },
  {
   "cell_type": "code",
   "execution_count": 13,
   "metadata": {},
   "outputs": [],
   "source": [
    "# Load data\n",
    "df = pd.read_csv(\"mca_gujarat_21042018.csv\")"
   ]
  },
  {
   "cell_type": "code",
   "execution_count": 14,
   "metadata": {},
   "outputs": [
    {
     "name": "stdout",
     "output_type": "stream",
     "text": [
      "<class 'pandas.core.frame.DataFrame'>\n",
      "RangeIndex: 95826 entries, 0 to 95825\n",
      "Data columns (total 16 columns):\n",
      " #   Column                                  Non-Null Count  Dtype  \n",
      "---  ------                                  --------------  -----  \n",
      " 0   CORPORATE_IDENTIFICATION_NUMBER         95826 non-null  object \n",
      " 1   COMPANY_NAME                            95826 non-null  object \n",
      " 2   COMPANY_STATUS                          95826 non-null  object \n",
      " 3   COMPANY_CLASS                           95820 non-null  object \n",
      " 4   COMPANY_CATEGORY                        95820 non-null  object \n",
      " 5   COMPANY_SUB_CATEGORY                    95820 non-null  object \n",
      " 6   DATE_OF_REGISTRATION                    95814 non-null  object \n",
      " 7   REGISTERED_STATE                        95826 non-null  object \n",
      " 8   AUTHORIZED_CAP                          95826 non-null  float64\n",
      " 9   PAIDUP_CAPITAL                          95826 non-null  float64\n",
      " 10  INDUSTRIAL_CLASS                        95826 non-null  object \n",
      " 11  PRINCIPAL_BUSINESS_ACTIVITY_AS_PER_CIN  95826 non-null  object \n",
      " 12  REGISTRAR_OF_COMPANIES                  95491 non-null  object \n",
      " 13  EMAIL_ADDR                              72238 non-null  object \n",
      " 14  LATEST_YEAR_ANNUAL_RETURN               55908 non-null  object \n",
      " 15  LATEST_YEAR_FINANCIAL_STATEMENT         55898 non-null  object \n",
      "dtypes: float64(2), object(14)\n",
      "memory usage: 11.7+ MB\n"
     ]
    }
   ],
   "source": [
    "# a) Describe the datasets and identify the data types of attributes of the dataset.\n",
    "# Describe the dataset\n",
    "df.info()"
   ]
  },
  {
   "cell_type": "code",
   "execution_count": 15,
   "metadata": {},
   "outputs": [
    {
     "data": {
      "text/html": [
       "<div>\n",
       "<style scoped>\n",
       "    .dataframe tbody tr th:only-of-type {\n",
       "        vertical-align: middle;\n",
       "    }\n",
       "\n",
       "    .dataframe tbody tr th {\n",
       "        vertical-align: top;\n",
       "    }\n",
       "\n",
       "    .dataframe thead th {\n",
       "        text-align: right;\n",
       "    }\n",
       "</style>\n",
       "<table border=\"1\" class=\"dataframe\">\n",
       "  <thead>\n",
       "    <tr style=\"text-align: right;\">\n",
       "      <th></th>\n",
       "      <th>AUTHORIZED_CAP</th>\n",
       "      <th>PAIDUP_CAPITAL</th>\n",
       "    </tr>\n",
       "  </thead>\n",
       "  <tbody>\n",
       "    <tr>\n",
       "      <th>count</th>\n",
       "      <td>9.582600e+04</td>\n",
       "      <td>9.582600e+04</td>\n",
       "    </tr>\n",
       "    <tr>\n",
       "      <th>mean</th>\n",
       "      <td>6.320206e+07</td>\n",
       "      <td>2.986657e+07</td>\n",
       "    </tr>\n",
       "    <tr>\n",
       "      <th>std</th>\n",
       "      <td>2.690387e+09</td>\n",
       "      <td>1.730888e+09</td>\n",
       "    </tr>\n",
       "    <tr>\n",
       "      <th>min</th>\n",
       "      <td>0.000000e+00</td>\n",
       "      <td>0.000000e+00</td>\n",
       "    </tr>\n",
       "    <tr>\n",
       "      <th>25%</th>\n",
       "      <td>1.000000e+05</td>\n",
       "      <td>1.000000e+05</td>\n",
       "    </tr>\n",
       "    <tr>\n",
       "      <th>50%</th>\n",
       "      <td>5.000000e+05</td>\n",
       "      <td>1.000000e+05</td>\n",
       "    </tr>\n",
       "    <tr>\n",
       "      <th>75%</th>\n",
       "      <td>2.500000e+06</td>\n",
       "      <td>1.000000e+06</td>\n",
       "    </tr>\n",
       "    <tr>\n",
       "      <th>max</th>\n",
       "      <td>6.000000e+11</td>\n",
       "      <td>4.570000e+11</td>\n",
       "    </tr>\n",
       "  </tbody>\n",
       "</table>\n",
       "</div>"
      ],
      "text/plain": [
       "       AUTHORIZED_CAP  PAIDUP_CAPITAL\n",
       "count    9.582600e+04    9.582600e+04\n",
       "mean     6.320206e+07    2.986657e+07\n",
       "std      2.690387e+09    1.730888e+09\n",
       "min      0.000000e+00    0.000000e+00\n",
       "25%      1.000000e+05    1.000000e+05\n",
       "50%      5.000000e+05    1.000000e+05\n",
       "75%      2.500000e+06    1.000000e+06\n",
       "max      6.000000e+11    4.570000e+11"
      ]
     },
     "execution_count": 15,
     "metadata": {},
     "output_type": "execute_result"
    }
   ],
   "source": [
    "# identify the data types of attributes\n",
    "df.describe()"
   ]
  },
  {
   "cell_type": "code",
   "execution_count": 16,
   "metadata": {},
   "outputs": [
    {
     "data": {
      "text/plain": [
       "CORPORATE_IDENTIFICATION_NUMBER               0\n",
       "COMPANY_NAME                                  0\n",
       "COMPANY_STATUS                                0\n",
       "COMPANY_CLASS                                 6\n",
       "COMPANY_CATEGORY                              6\n",
       "COMPANY_SUB_CATEGORY                          6\n",
       "DATE_OF_REGISTRATION                         12\n",
       "REGISTERED_STATE                              0\n",
       "AUTHORIZED_CAP                                0\n",
       "PAIDUP_CAPITAL                                0\n",
       "INDUSTRIAL_CLASS                              0\n",
       "PRINCIPAL_BUSINESS_ACTIVITY_AS_PER_CIN        0\n",
       "REGISTRAR_OF_COMPANIES                      335\n",
       "EMAIL_ADDR                                23588\n",
       "LATEST_YEAR_ANNUAL_RETURN                 39918\n",
       "LATEST_YEAR_FINANCIAL_STATEMENT           39928\n",
       "dtype: int64"
      ]
     },
     "execution_count": 16,
     "metadata": {},
     "output_type": "execute_result"
    }
   ],
   "source": [
    "# b) Implement the methods to display the number of missing values of different attributes and methods to handle missing value.\n",
    "\n",
    "# Method to display no. of missing values\n",
    "df.isnull().sum()"
   ]
  },
  {
   "cell_type": "code",
   "execution_count": 17,
   "metadata": {},
   "outputs": [
    {
     "data": {
      "text/plain": [
       "CORPORATE_IDENTIFICATION_NUMBER           0\n",
       "COMPANY_NAME                              0\n",
       "COMPANY_STATUS                            0\n",
       "COMPANY_CLASS                             0\n",
       "COMPANY_CATEGORY                          0\n",
       "COMPANY_SUB_CATEGORY                      0\n",
       "DATE_OF_REGISTRATION                      0\n",
       "REGISTERED_STATE                          0\n",
       "AUTHORIZED_CAP                            0\n",
       "PAIDUP_CAPITAL                            0\n",
       "INDUSTRIAL_CLASS                          0\n",
       "PRINCIPAL_BUSINESS_ACTIVITY_AS_PER_CIN    0\n",
       "REGISTRAR_OF_COMPANIES                    0\n",
       "EMAIL_ADDR                                0\n",
       "LATEST_YEAR_ANNUAL_RETURN                 0\n",
       "LATEST_YEAR_FINANCIAL_STATEMENT           0\n",
       "dtype: int64"
      ]
     },
     "execution_count": 17,
     "metadata": {},
     "output_type": "execute_result"
    }
   ],
   "source": [
    "# Handle missing values\n",
    "# Option 1: Remove rows with missing values\n",
    "df_no_missing = df.dropna()\n",
    "df_no_missing.isnull().sum()"
   ]
  },
  {
   "cell_type": "code",
   "execution_count": 18,
   "metadata": {},
   "outputs": [
    {
     "data": {
      "text/plain": [
       "CORPORATE_IDENTIFICATION_NUMBER           0\n",
       "COMPANY_NAME                              0\n",
       "COMPANY_STATUS                            0\n",
       "COMPANY_CLASS                             0\n",
       "COMPANY_CATEGORY                          0\n",
       "COMPANY_SUB_CATEGORY                      0\n",
       "DATE_OF_REGISTRATION                      0\n",
       "REGISTERED_STATE                          0\n",
       "AUTHORIZED_CAP                            0\n",
       "PAIDUP_CAPITAL                            0\n",
       "INDUSTRIAL_CLASS                          0\n",
       "PRINCIPAL_BUSINESS_ACTIVITY_AS_PER_CIN    0\n",
       "REGISTRAR_OF_COMPANIES                    0\n",
       "EMAIL_ADDR                                0\n",
       "LATEST_YEAR_ANNUAL_RETURN                 0\n",
       "LATEST_YEAR_FINANCIAL_STATEMENT           0\n",
       "dtype: int64"
      ]
     },
     "execution_count": 18,
     "metadata": {},
     "output_type": "execute_result"
    }
   ],
   "source": [
    "# Option 2: Replace missing values with mean (for categorical columns)\n",
    "df.fillna(df.mode().iloc[0], inplace=True)\n",
    "df.isnull().sum()"
   ]
  },
  {
   "cell_type": "code",
   "execution_count": 19,
   "metadata": {},
   "outputs": [
    {
     "data": {
      "text/html": [
       "<div>\n",
       "<style scoped>\n",
       "    .dataframe tbody tr th:only-of-type {\n",
       "        vertical-align: middle;\n",
       "    }\n",
       "\n",
       "    .dataframe tbody tr th {\n",
       "        vertical-align: top;\n",
       "    }\n",
       "\n",
       "    .dataframe thead th {\n",
       "        text-align: right;\n",
       "    }\n",
       "</style>\n",
       "<table border=\"1\" class=\"dataframe\">\n",
       "  <thead>\n",
       "    <tr style=\"text-align: right;\">\n",
       "      <th></th>\n",
       "      <th>CORPORATE_IDENTIFICATION_NUMBER</th>\n",
       "      <th>COMPANY_NAME</th>\n",
       "      <th>COMPANY_STATUS</th>\n",
       "      <th>COMPANY_CLASS</th>\n",
       "      <th>COMPANY_CATEGORY</th>\n",
       "      <th>COMPANY_SUB_CATEGORY</th>\n",
       "      <th>DATE_OF_REGISTRATION</th>\n",
       "      <th>REGISTERED_STATE</th>\n",
       "      <th>AUTHORIZED_CAP</th>\n",
       "      <th>PAIDUP_CAPITAL</th>\n",
       "      <th>INDUSTRIAL_CLASS</th>\n",
       "      <th>PRINCIPAL_BUSINESS_ACTIVITY_AS_PER_CIN</th>\n",
       "      <th>REGISTRAR_OF_COMPANIES</th>\n",
       "      <th>LATEST_YEAR_ANNUAL_RETURN</th>\n",
       "      <th>LATEST_YEAR_FINANCIAL_STATEMENT</th>\n",
       "    </tr>\n",
       "  </thead>\n",
       "  <tbody>\n",
       "    <tr>\n",
       "      <th>0</th>\n",
       "      <td>U01223GJ2001PTC039771</td>\n",
       "      <td>SHREEJI HONEY (INDIA) PRIVATE LIMITED</td>\n",
       "      <td>Active</td>\n",
       "      <td>Private</td>\n",
       "      <td>Company limited by Shares</td>\n",
       "      <td>Non-govt company</td>\n",
       "      <td>12-07-2001</td>\n",
       "      <td>Gujarat</td>\n",
       "      <td>1500000.0</td>\n",
       "      <td>1500000.0</td>\n",
       "      <td>`01223</td>\n",
       "      <td>Agriculture and Allied Activities</td>\n",
       "      <td>RoC-Ahmedabad</td>\n",
       "      <td>31-03-2017</td>\n",
       "      <td>31-03-2017</td>\n",
       "    </tr>\n",
       "    <tr>\n",
       "      <th>1</th>\n",
       "      <td>U01224GJ2005PTC047084</td>\n",
       "      <td>NICE NATURAL SILK INDUSTRIES PRIVATE LIMITED</td>\n",
       "      <td>Strike Off</td>\n",
       "      <td>Private</td>\n",
       "      <td>Company limited by Shares</td>\n",
       "      <td>Non-govt company</td>\n",
       "      <td>17-11-2005</td>\n",
       "      <td>Gujarat</td>\n",
       "      <td>10000000.0</td>\n",
       "      <td>100000.0</td>\n",
       "      <td>`01224</td>\n",
       "      <td>Agriculture and Allied Activities</td>\n",
       "      <td>RoC-Ahmedabad</td>\n",
       "      <td>31-03-2017</td>\n",
       "      <td>31-03-2017</td>\n",
       "    </tr>\n",
       "    <tr>\n",
       "      <th>2</th>\n",
       "      <td>U01224GJ2011PTC067121</td>\n",
       "      <td>DAYALJI SILK PRIVATE LIMITED</td>\n",
       "      <td>Active</td>\n",
       "      <td>Private</td>\n",
       "      <td>Company limited by Shares</td>\n",
       "      <td>Non-govt company</td>\n",
       "      <td>14-09-2011</td>\n",
       "      <td>Gujarat</td>\n",
       "      <td>100000.0</td>\n",
       "      <td>100000.0</td>\n",
       "      <td>`01224</td>\n",
       "      <td>Agriculture and Allied Activities</td>\n",
       "      <td>RoC-Ahmedabad</td>\n",
       "      <td>31-03-2017</td>\n",
       "      <td>31-03-2017</td>\n",
       "    </tr>\n",
       "    <tr>\n",
       "      <th>3</th>\n",
       "      <td>U01225GJ2010PTC061439</td>\n",
       "      <td>K. R. RABBIT FARMING PRIVATE LIMITED</td>\n",
       "      <td>Strike Off</td>\n",
       "      <td>Private</td>\n",
       "      <td>Company limited by Shares</td>\n",
       "      <td>Non-govt company</td>\n",
       "      <td>05-07-2010</td>\n",
       "      <td>Gujarat</td>\n",
       "      <td>100000.0</td>\n",
       "      <td>100000.0</td>\n",
       "      <td>`01225</td>\n",
       "      <td>Agriculture and Allied Activities</td>\n",
       "      <td>RoC-Ahmedabad</td>\n",
       "      <td>31-03-2017</td>\n",
       "      <td>31-03-2017</td>\n",
       "    </tr>\n",
       "    <tr>\n",
       "      <th>4</th>\n",
       "      <td>U01225GJ2013PLC073774</td>\n",
       "      <td>ABELLON BAMBOOWORKS LIMITED</td>\n",
       "      <td>Active</td>\n",
       "      <td>Public</td>\n",
       "      <td>Company limited by Shares</td>\n",
       "      <td>Non-govt company</td>\n",
       "      <td>28-02-2013</td>\n",
       "      <td>Gujarat</td>\n",
       "      <td>40000000.0</td>\n",
       "      <td>40000000.0</td>\n",
       "      <td>`01225</td>\n",
       "      <td>Agriculture and Allied Activities</td>\n",
       "      <td>RoC-Ahmedabad</td>\n",
       "      <td>31-03-2016</td>\n",
       "      <td>31-03-2016</td>\n",
       "    </tr>\n",
       "  </tbody>\n",
       "</table>\n",
       "</div>"
      ],
      "text/plain": [
       "  CORPORATE_IDENTIFICATION_NUMBER  \\\n",
       "0           U01223GJ2001PTC039771   \n",
       "1           U01224GJ2005PTC047084   \n",
       "2           U01224GJ2011PTC067121   \n",
       "3           U01225GJ2010PTC061439   \n",
       "4           U01225GJ2013PLC073774   \n",
       "\n",
       "                                   COMPANY_NAME COMPANY_STATUS COMPANY_CLASS  \\\n",
       "0         SHREEJI HONEY (INDIA) PRIVATE LIMITED         Active       Private   \n",
       "1  NICE NATURAL SILK INDUSTRIES PRIVATE LIMITED     Strike Off       Private   \n",
       "2                  DAYALJI SILK PRIVATE LIMITED         Active       Private   \n",
       "3          K. R. RABBIT FARMING PRIVATE LIMITED     Strike Off       Private   \n",
       "4                   ABELLON BAMBOOWORKS LIMITED         Active        Public   \n",
       "\n",
       "            COMPANY_CATEGORY COMPANY_SUB_CATEGORY DATE_OF_REGISTRATION  \\\n",
       "0  Company limited by Shares     Non-govt company           12-07-2001   \n",
       "1  Company limited by Shares     Non-govt company           17-11-2005   \n",
       "2  Company limited by Shares     Non-govt company           14-09-2011   \n",
       "3  Company limited by Shares     Non-govt company           05-07-2010   \n",
       "4  Company limited by Shares     Non-govt company           28-02-2013   \n",
       "\n",
       "  REGISTERED_STATE  AUTHORIZED_CAP  PAIDUP_CAPITAL INDUSTRIAL_CLASS  \\\n",
       "0          Gujarat       1500000.0       1500000.0           `01223   \n",
       "1          Gujarat      10000000.0        100000.0           `01224   \n",
       "2          Gujarat        100000.0        100000.0           `01224   \n",
       "3          Gujarat        100000.0        100000.0           `01225   \n",
       "4          Gujarat      40000000.0      40000000.0           `01225   \n",
       "\n",
       "  PRINCIPAL_BUSINESS_ACTIVITY_AS_PER_CIN REGISTRAR_OF_COMPANIES  \\\n",
       "0      Agriculture and Allied Activities          RoC-Ahmedabad   \n",
       "1      Agriculture and Allied Activities          RoC-Ahmedabad   \n",
       "2      Agriculture and Allied Activities          RoC-Ahmedabad   \n",
       "3      Agriculture and Allied Activities          RoC-Ahmedabad   \n",
       "4      Agriculture and Allied Activities          RoC-Ahmedabad   \n",
       "\n",
       "  LATEST_YEAR_ANNUAL_RETURN LATEST_YEAR_FINANCIAL_STATEMENT  \n",
       "0                31-03-2017                      31-03-2017  \n",
       "1                31-03-2017                      31-03-2017  \n",
       "2                31-03-2017                      31-03-2017  \n",
       "3                31-03-2017                      31-03-2017  \n",
       "4                31-03-2016                      31-03-2016  "
      ]
     },
     "execution_count": 19,
     "metadata": {},
     "output_type": "execute_result"
    }
   ],
   "source": [
    "df.drop(['EMAIL_ADDR'],axis=1, inplace=True)\n",
    "df.head()"
   ]
  },
  {
   "cell_type": "code",
   "execution_count": 20,
   "metadata": {},
   "outputs": [
    {
     "name": "stdout",
     "output_type": "stream",
     "text": [
      "['Private' 'Public' 'Private(One Person Company)']\n"
     ]
    }
   ],
   "source": [
    "# c) Display the statistics about number of private and public company according to the different registrar of the company.\n",
    "\n",
    "company_class = df['COMPANY_CLASS'].unique()\n",
    "print(company_class)"
   ]
  },
  {
   "cell_type": "code",
   "execution_count": 21,
   "metadata": {},
   "outputs": [
    {
     "data": {
      "text/plain": [
       "REGISTRAR_OF_COMPANIES  COMPANY_CLASS              \n",
       "RoC-Ahmedabad           Private                        86663\n",
       "                        Public                          8602\n",
       "                        Private(One Person Company)      539\n",
       "RoC-Bangalore           Private                            1\n",
       "RoC-Delhi               Private                            1\n",
       "RoC-Goa                 Private                            6\n",
       "                        Public                             1\n",
       "RoC-Gwalior             Private                            3\n",
       "RoC-Jaipur              Private                            4\n",
       "                        Public                             1\n",
       "RoC-Jammu               Private                            1\n",
       "RoC-Kolkata             Public                             2\n",
       "RoC-Mumbai              Public                             2\n",
       "Name: count, dtype: int64"
      ]
     },
     "execution_count": 21,
     "metadata": {},
     "output_type": "execute_result"
    }
   ],
   "source": [
    "statistics = df.groupby('REGISTRAR_OF_COMPANIES')['COMPANY_CLASS'].value_counts()\n",
    "statistics"
   ]
  }
 ],
 "metadata": {
  "kernelspec": {
   "display_name": "Python 3",
   "language": "python",
   "name": "python3"
  },
  "language_info": {
   "codemirror_mode": {
    "name": "ipython",
    "version": 3
   },
   "file_extension": ".py",
   "mimetype": "text/x-python",
   "name": "python",
   "nbconvert_exporter": "python",
   "pygments_lexer": "ipython3",
   "version": "3.11.2"
  }
 },
 "nbformat": 4,
 "nbformat_minor": 2
}
